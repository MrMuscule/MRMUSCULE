{
  "nbformat": 4,
  "nbformat_minor": 0,
  "metadata": {
    "colab": {
      "name": "TeoMatty.ipynb",
      "provenance": [],
      "include_colab_link": true
    },
    "kernelspec": {
      "name": "python3",
      "display_name": "Python 3"
    },
    "language_info": {
      "name": "python"
    }
  },
  "cells": [
    {
      "cell_type": "markdown",
      "metadata": {
        "id": "view-in-github",
        "colab_type": "text"
      },
      "source": [
        "<a href=\"https://colab.research.google.com/github/MrMuscule/MRMUSCULE/blob/main/Danylo.ipynb\" target=\"_parent\"><img src=\"https://colab.research.google.com/assets/colab-badge.svg\" alt=\"Open In Colab\"/></a>"
      ]
    },
    {
      "cell_type": "code",
      "source": [
        "import cmath, math, numpy"
      ],
      "metadata": {
        "id": "Tj4LO7jA38r_"
      },
      "execution_count": null,
      "outputs": []
    },
    {
      "cell_type": "code",
      "execution_count": null,
      "metadata": {
        "id": "YYiE9j-_yAC5"
      },
      "outputs": [],
      "source": [
        "def addComplex( z1, z2):\n",
        "    return z1 + z2"
      ]
    },
    {
      "cell_type": "code",
      "source": [
        "def subComplex(z1, z2):\n",
        "  return z1-z2"
      ],
      "metadata": {
        "id": "lGvjZ9aNy0aS"
      },
      "execution_count": null,
      "outputs": []
    },
    {
      "cell_type": "code",
      "source": [
        "z1 = complex(2, 3)\n",
        "z2 = complex(1, 2)\n",
        "print( \"Addition is : \", addComplex(z1, z2))"
      ],
      "metadata": {
        "colab": {
          "base_uri": "https://localhost:8080/"
        },
        "id": "BGSZiXePysRm",
        "outputId": "12f6f7b8-3123-4f07-d95b-9cc9224dce4d"
      },
      "execution_count": null,
      "outputs": [
        {
          "output_type": "stream",
          "name": "stdout",
          "text": [
            "Addition is :  (3+5j)\n"
          ]
        }
      ]
    },
    {
      "cell_type": "code",
      "source": [
        "z1= complex(2,3)\n",
        "z2= complex(1,2)\n",
        "print(\"substraction is: \", subComplex(z1,z2))"
      ],
      "metadata": {
        "colab": {
          "base_uri": "https://localhost:8080/"
        },
        "id": "YbYHDkgly71X",
        "outputId": "392666b0-c86a-4ee6-82c6-4ae72864312c"
      },
      "execution_count": null,
      "outputs": [
        {
          "output_type": "stream",
          "name": "stdout",
          "text": [
            "substraction is:  (1+1j)\n"
          ]
        }
      ]
    },
    {
      "cell_type": "code",
      "source": [
        "z = complex(2,5)\n",
        "print(\" conjugate is: \", z.conjugate())"
      ],
      "metadata": {
        "colab": {
          "base_uri": "https://localhost:8080/"
        },
        "id": "Ooa22KkK3Bok",
        "outputId": "dfd04353-65d2-47dc-b144-4bb9a46739bf"
      },
      "execution_count": null,
      "outputs": [
        {
          "output_type": "stream",
          "name": "stdout",
          "text": [
            " conjugate is:  (2-5j)\n"
          ]
        }
      ]
    },
    {
      "cell_type": "code",
      "source": [
        "c = 4+ 4j\n",
        "# phase\n",
        "phase = cmath.phase(c)\n",
        "print('4+ 4j Phase =', phase)\n",
        "print('Phase in Degrees =', numpy.degrees(phase))\n",
        "print('-4-4j Phase =', cmath.phase(-4-4j), 'radians. Degrees =', numpy.degrees(cmath.phase(-4-4j)))\n",
        "# we can get phase using math.atan2() function too\n",
        "print('Complex number phase using math.atan2() =', math.atan2(2, 1))"
      ],
      "metadata": {
        "id": "MTG3APzK4Cgd",
        "outputId": "b932e01b-8de7-4768-9578-68d19257211e",
        "colab": {
          "base_uri": "https://localhost:8080/"
        }
      },
      "execution_count": null,
      "outputs": [
        {
          "output_type": "stream",
          "name": "stdout",
          "text": [
            "4+ 4j Phase = 0.7853981633974483\n",
            "Phase in Degrees = 45.0\n",
            "-4-4j Phase = -2.356194490192345 radians. Degrees = -135.0\n",
            "Complex number phase using math.atan2() = 1.1071487177940904\n"
          ]
        }
      ]
    }
  ]
}